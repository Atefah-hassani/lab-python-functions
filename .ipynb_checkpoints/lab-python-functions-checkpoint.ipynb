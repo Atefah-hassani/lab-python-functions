{
 "cells": [
  {
   "cell_type": "markdown",
   "id": "25d7736c-ba17-4aff-b6bb-66eba20fbf4e",
   "metadata": {},
   "source": [
    "# Lab | Functions"
   ]
  },
  {
   "cell_type": "markdown",
   "id": "0c581062-8967-4d93-b06e-62833222f930",
   "metadata": {
    "tags": []
   },
   "source": [
    "## Exercise: Managing Customer Orders with Functions\n",
    "\n",
    "In the previous exercise, you improved the code for managing customer orders by using loops and flow control. Now, let's take it a step further and refactor the code by introducing functions.\n",
    "\n",
    "Follow the steps below to complete the exercise:\n",
    "\n",
    "1. Define a function named `initialize_inventory` that takes `products` as a parameter. Inside the function, implement the code for initializing the inventory dictionary using a loop and user input.\n",
    "\n",
    "2. Define a function named `get_customer_orders` that takes no parameters. Inside the function, implement the code for prompting the user to enter the product names using a loop. The function should return the `customer_orders` set.\n",
    "\n",
    "3. Define a function named `update_inventory` that takes `customer_orders` and `inventory` as parameters. Inside the function, implement the code for updating the inventory dictionary based on the customer orders.\n",
    "\n",
    "4. Define a function named `calculate_order_statistics` that takes `customer_orders` and `products` as parameters. Inside the function, implement the code for calculating the order statistics (total products ordered, and percentage of unique products ordered). The function should return these values.\n",
    "\n",
    "5. Define a function named `print_order_statistics` that takes `order_statistics` as a parameter. Inside the function, implement the code for printing the order statistics.\n",
    "\n",
    "6. Define a function named `print_updated_inventory` that takes `inventory` as a parameter. Inside the function, implement the code for printing the updated inventory.\n",
    "\n",
    "7. Call the functions in the appropriate sequence to execute the program and manage customer orders.\n",
    "\n",
    "Hints for functions:\n",
    "\n",
    "- Consider the input parameters required for each function and their return values.\n",
    "- Utilize function parameters and return values to transfer data between functions.\n",
    "- Test your functions individually to ensure they work correctly.\n",
    "\n",
    "\n"
   ]
  },
  {
   "cell_type": "code",
   "execution_count": 8,
   "id": "9e9d5f1b-8ab5-4850-941b-c1638f3e8949",
   "metadata": {},
   "outputs": [],
   "source": [
    "products = [\"t-shirt\", \"mug\", \"hat\", \"book\", \"keychain\"]"
   ]
  },
  {
   "cell_type": "code",
   "execution_count": 20,
   "id": "585ad3b2-4df0-4d27-8f7d-a7af9411d4a4",
   "metadata": {},
   "outputs": [
    {
     "name": "stdin",
     "output_type": "stream",
     "text": [
      "Enter the quantity of t-shirts available:  2\n",
      "Enter the quantity of mugs available:  1\n",
      "Enter the quantity of hats available:  3\n",
      "Enter the quantity of books available:  2\n",
      "Enter the quantity of keychains available:  1\n"
     ]
    },
    {
     "name": "stdout",
     "output_type": "stream",
     "text": [
      "\n",
      "Inventory: {'t-shirt': 2, 'mug': 1, 'hat': 3, 'book': 2, 'keychain': 1}\n"
     ]
    }
   ],
   "source": [
    "# Function to initialize inventory with user input\n",
    "def initialize_inventory(products):\n",
    "    inventory = {}\n",
    "    for product in products:\n",
    "        while True:\n",
    "            try:\n",
    "                quantity = int(input(f\"Enter the quantity of {product}s available: \"))\n",
    "                inventory[product] = quantity\n",
    "                break  # Exit the while loop if input is valid\n",
    "            except ValueError:\n",
    "                print(\"Invalid input. Please enter an integer.\")\n",
    "    return inventory\n",
    "\n",
    "products = [\"t-shirt\", \"mug\", \"hat\", \"book\", \"keychain\"]\n",
    "inventory = initialize_inventory(products)\n",
    "\n",
    "print(\"\\nInventory:\", inventory)"
   ]
  },
  {
   "cell_type": "code",
   "execution_count": 23,
   "id": "799cebfa-402c-44db-8a12-4e054661410e",
   "metadata": {},
   "outputs": [
    {
     "name": "stdin",
     "output_type": "stream",
     "text": [
      "Enter the number of customer orders:  3\n",
      "Enter the name of a product that a customer wants to order:  mug\n",
      "Enter the name of a product that a customer wants to order:  hat\n",
      "Enter the name of a product that a customer wants to order:  keychain\n"
     ]
    },
    {
     "name": "stdout",
     "output_type": "stream",
     "text": [
      "Customer Orders: {'hat', 'keychain', 'mug'}\n"
     ]
    }
   ],
   "source": [
    "def get_customer_orders():\n",
    "    customer_orders = set()\n",
    "    num_orders = 0\n",
    "\n",
    "    while True:\n",
    "        try:\n",
    "            num_orders = int(input(\"Enter the number of customer orders: \"))\n",
    "            if num_orders < 0:\n",
    "                raise ValueError(\"Number of orders cannot be negative.\")\n",
    "            break\n",
    "        except ValueError as e:\n",
    "            print(f\"Error: {e}. Try again.\")\n",
    "\n",
    "    for _ in range(num_orders):\n",
    "        product = input(\"Enter the name of a product that a customer wants to order: \").strip().lower()\n",
    "        customer_orders.add(product)\n",
    "\n",
    "    return customer_orders\n",
    "\n",
    "customer_orders = get_customer_orders()\n",
    "\n",
    "print(\"Customer Orders:\", customer_orders)"
   ]
  },
  {
   "cell_type": "code",
   "execution_count": 24,
   "id": "895c21b7-75d9-4d9e-9800-d23e17ebc766",
   "metadata": {},
   "outputs": [],
   "source": [
    "def update_inventory(customer_orders, inventory):\n",
    "\n",
    "    for product in customer_orders:\n",
    "        if product in inventory and inventory[product] > 0:\n",
    "            inventory[product] -= 1\n",
    "    return inventory\n",
    "\n",
    "\n",
    "def calculate_order_statistics(customer_orders, products):\n",
    "    \"\"\"\n",
    "    Calculate order statistics.\n",
    "    \n",
    "    Parameters:\n",
    "    - customer_orders: a collection (e.g., list or set) of product names ordered.\n",
    "    - products: a list of all possible product names.\n",
    "    \n",
    "    Returns:\n",
    "    - A tuple (total_products_ordered, percentage_unique_products)\n",
    "      where:\n",
    "         total_products_ordered: total number of orders.\n",
    "         percentage_unique_products: percentage of unique products ordered (as a float).\n",
    "    \"\"\"\n",
    "    total_products_ordered = len(customer_orders)\n",
    "    # Calculate percentage using the total unique products compared to all products\n",
    "    percentage_unique_products = (len(set(customer_orders)) / len(products)) * 100\n",
    "    return total_products_ordered, percentage_unique_products\n",
    "\n",
    "\n",
    "def print_order_statistics(order_statistics):\n",
    "    \"\"\"\n",
    "    Print the order statistics.\n",
    "    \n",
    "    Parameter:\n",
    "    - order_statistics: a tuple containing (total_products_ordered, percentage_unique_products).\n",
    "    \"\"\"\n",
    "    total_products_ordered, percentage_unique_products = order_statistics\n",
    "    print(\"\\nOrder Statistics:\")\n",
    "    print(f\"Total Products Ordered: {total_products_ordered}\")\n",
    "    print(f\"Percentage of Unique Products Ordered: {percentage_unique_products:.1f}%\")\n",
    "\n",
    "\n",
    "def print_updated_inventory(inventory):\n",
    "    \"\"\"\n",
    "    Print the updated inventory.\n",
    "    \n",
    "    Parameter:\n",
    "    - inventory: a dictionary with product names as keys and their updated quantities as values.\n",
    "    \"\"\"\n",
    "    print(\"\\nUpdated Inventory:\")\n",
    "    for product, quantity in inventory.items():\n",
    "        print(f\"{product}: {quantity}\")"
   ]
  },
  {
   "cell_type": "code",
   "execution_count": 25,
   "id": "04c75d95-2eab-47db-a3bd-fe2f73cc41c3",
   "metadata": {},
   "outputs": [
    {
     "name": "stdout",
     "output_type": "stream",
     "text": [
      "\n",
      "Order Statistics:\n",
      "Total Products Ordered: 3\n",
      "Percentage of Unique Products Ordered: 60.0%\n",
      "\n",
      "Updated Inventory:\n",
      "t-shirt: 2\n",
      "mug: 0\n",
      "hat: 1\n",
      "book: 1\n",
      "keychain: 0\n"
     ]
    }
   ],
   "source": [
    "# 1. Update the inventory based on customer orders.\n",
    "updated_inventory = update_inventory(customer_orders, inventory)\n",
    "\n",
    "# 2. Calculate order statistics using the customer orders and the list of products.\n",
    "order_stats = calculate_order_statistics(customer_orders, products)\n",
    "\n",
    "# 3. Print the order statistics.\n",
    "print_order_statistics(order_stats)\n",
    "\n",
    "# 4. Print the updated inventory.\n",
    "print_updated_inventory(updated_inventory)\n"
   ]
  },
  {
   "cell_type": "code",
   "execution_count": null,
   "id": "e6bfb0fa-de9c-45f2-a95c-2ef7e6f8079b",
   "metadata": {},
   "outputs": [],
   "source": []
  },
  {
   "cell_type": "code",
   "execution_count": null,
   "id": "7c53ea62-395a-4ec1-854f-361a817d751f",
   "metadata": {},
   "outputs": [],
   "source": []
  }
 ],
 "metadata": {
  "kernelspec": {
   "display_name": "Python 3 (ipykernel)",
   "language": "python",
   "name": "python3"
  },
  "language_info": {
   "codemirror_mode": {
    "name": "ipython",
    "version": 3
   },
   "file_extension": ".py",
   "mimetype": "text/x-python",
   "name": "python",
   "nbconvert_exporter": "python",
   "pygments_lexer": "ipython3",
   "version": "3.12.7"
  }
 },
 "nbformat": 4,
 "nbformat_minor": 5
}
